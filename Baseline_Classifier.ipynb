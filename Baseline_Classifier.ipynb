{
 "cells": [
  {
   "cell_type": "markdown",
   "id": "92a07947",
   "metadata": {},
   "source": [
    "### Import required pakages"
   ]
  },
  {
   "cell_type": "code",
   "execution_count": null,
   "id": "8a5b513c",
   "metadata": {},
   "outputs": [],
   "source": [
    "import json\n",
    "import random\n",
    "import pandas as pd\n",
    "\n",
    "from sklearn.model_selection import train_test_split\n",
    "from sklearn.metrics import classification_report\n",
    "from sklearn.metrics import accuracy_score\n",
    "from sklearn.metrics import recall_score\n",
    "from sklearn.metrics import precision_score"
   ]
  },
  {
   "cell_type": "markdown",
   "id": "9c39f4be",
   "metadata": {},
   "source": [
    "### Reading json data"
   ]
  },
  {
   "cell_type": "code",
   "execution_count": null,
   "id": "2bf6cfd2",
   "metadata": {},
   "outputs": [],
   "source": [
    "def get_data(file_path):\n",
    "    with open(file_path, \"r\", encoding=\"utf-8\") as f:\n",
    "        data = json.load(f)\n",
    "    return data\n"
   ]
  },
  {
   "cell_type": "markdown",
   "id": "e3279ccf",
   "metadata": {},
   "source": [
    "### Paths to the input files"
   ]
  },
  {
   "cell_type": "code",
   "execution_count": null,
   "id": "47b25388",
   "metadata": {},
   "outputs": [],
   "source": [
    "\n",
    "file = \"data/full_dataset.json\""
   ]
  },
  {
   "cell_type": "markdown",
   "id": "3c92c745",
   "metadata": {},
   "source": [
    "#### Read files"
   ]
  },
  {
   "cell_type": "code",
   "execution_count": null,
   "id": "e964d24d",
   "metadata": {},
   "outputs": [],
   "source": [
    "json_data = get_data(file)\n"
   ]
  },
  {
   "cell_type": "markdown",
   "id": "93aa20c0",
   "metadata": {},
   "source": [
    "### Separating records and convert to Dataframes"
   ]
  },
  {
   "cell_type": "code",
   "execution_count": null,
   "id": "49dc3ccb",
   "metadata": {},
   "outputs": [],
   "source": [
    "def json2DataFrame(json_data):\n",
    "    data_ = []\n",
    "    # Separating records and storing it to dataframes\n",
    "    for record in json_data:\n",
    "        text = record[\"text\"].lower()\n",
    "        job_type = record[\"full_time_required\"]\n",
    "        drv_lice_req = record[\"driving_license_required\"]\n",
    "        exp_req = record[\"experience_required\"]\n",
    "        education = record[\"education_required\"]\n",
    "        data_.append(  (text, job_type, drv_lice_req, exp_req, education )  )\n",
    "    data_ = pd.DataFrame(data_, columns = [\"text\", \"full_time_required\", \"driving_license_required\", \"experience_required\",\"education_required\"])\n",
    "    return data_"
   ]
  },
  {
   "cell_type": "code",
   "execution_count": null,
   "id": "eab62a8d",
   "metadata": {},
   "outputs": [],
   "source": [
    "data_ = json2DataFrame(json_data)\n",
    "data_.head()"
   ]
  },
  {
   "cell_type": "markdown",
   "id": "f0db7c28",
   "metadata": {},
   "source": [
    "### Creating Class and Prediction funtions to Search in lookup and Classifiy input text"
   ]
  },
  {
   "cell_type": "code",
   "execution_count": null,
   "id": "3b124800",
   "metadata": {},
   "outputs": [],
   "source": [
    "class ClassificationLex:   # Creating a classification Class\n",
    "    def __init__(self): \n",
    "        self.job_type_fullTime    = {}\n",
    "        self.job_type_partTime    = {}\n",
    "        self.drv_lice_req_true  = {} \n",
    "        self.drv_lice_req_false = {}\n",
    "        self.exp_req_true       = {}\n",
    "        self.exp_req_false      = {}\n",
    "        self.education_req      = {}\n",
    "        self.education_not_req  = {}\n",
    "        self.ready = None\n",
    "        self.top_k_stop_words = 80 #  Removing top stop_words\n",
    "        \n",
    "    def fit(self, data_df): ### fit function to populate lexicons\n",
    "        for record in data_df.values:\n",
    "            text         = record[0]\n",
    "            job_type     = record[1]\n",
    "            drv_lice_req = record[2]\n",
    "            exp_req      = record[3]\n",
    "            education    = record[4]\n",
    "            text_splited = text.split()\n",
    "            \n",
    "           ######## Sperating words and creating dictionary based on labels of all 8 classes ##########\n",
    "        \n",
    "            ##If word dont exist in full_time required dictionary create one otherwise if exits add 1 score\n",
    "            for word in text_splited:\n",
    "                if job_type == True:\n",
    "                    if word not in self.job_type_fullTime:\n",
    "                        self.job_type_fullTime[word]=1\n",
    "                    else:\n",
    "                        self.job_type_fullTime[word]+=1\n",
    "            ####If word dont exist in full_time not required dictionary create one otherwise if exits add 1 score\n",
    "                elif job_type == False:\n",
    "                    if word not in self.job_type_partTime:\n",
    "                        self.job_type_partTime[word]=1\n",
    "                    else:\n",
    "                        self.job_type_partTime[word]+=1\n",
    "             ####If word dont exist in driving licence required dictionary create one otherwise if exits add 1 score\n",
    "                if drv_lice_req ==True:\n",
    "                    if word not in self.drv_lice_req_true:\n",
    "                        self.drv_lice_req_true[word]=1\n",
    "                    else:\n",
    "                        self.drv_lice_req_true[word]+=1\n",
    "            ####If word dont exist in driving licence not required dictionary create one otherwise if exits add 1 score\n",
    "                elif drv_lice_req ==False:\n",
    "                    if word not in self.drv_lice_req_false:\n",
    "                        self.drv_lice_req_false[word]=1\n",
    "                    else:\n",
    "                        self.drv_lice_req_false[word]+=1\n",
    "            ####If word dont exist in experience required dictionary create one otherwise if exits add 1 score\n",
    "                if exp_req ==True:\n",
    "                    if word not in self.exp_req_true:\n",
    "                        self.exp_req_true[word]=1\n",
    "                    else:\n",
    "                        self.exp_req_true[word]+=1\n",
    "             ####If word dont exist in experience not required dictionary create one otherwise if exits add 1 score\n",
    "                elif exp_req ==False:\n",
    "                    if word not in self.exp_req_false:\n",
    "                        self.exp_req_false[word]=1\n",
    "                    else:\n",
    "                        self.exp_req_false[word]+=1\n",
    "            ####If word dont exist in education required dictionary create one otherwise if exits add 1 score\n",
    "                if education ==True:\n",
    "                    if word not in self.education_req:\n",
    "                        self.education_req[word]=1\n",
    "                    else:\n",
    "                        self.education_req[word]+=1\n",
    "            ####If word dont exist in education not required dictionary create one otherwise if exits add 1 score\n",
    "                elif education == False:\n",
    "                    if word not in self.education_not_req:\n",
    "                        self.education_not_req[word]=1\n",
    "                    else:\n",
    "                        self.education_not_req[word]+=1\n",
    "        \n",
    "        # removing top freuqest words\n",
    "        \n",
    "        self.job_type_fullTime = dict(sorted(self.job_type_fullTime.items(), key=lambda kv: kv[1],\n",
    "                                             reverse=True)[self.top_k_stop_words:])\n",
    "        self.job_type_partTime = dict(sorted(self.job_type_partTime.items(), key=lambda kv: kv[1],\n",
    "                                             reverse=True)[self.top_k_stop_words:])\n",
    "        \n",
    "        self.drv_lice_req_true = dict(sorted(self.drv_lice_req_true.items(), key=lambda kv: kv[1],\n",
    "                                             reverse=True)[self.top_k_stop_words:])\n",
    "        self.drv_lice_req_false = dict(sorted(self.drv_lice_req_false.items(), key=lambda kv: kv[1],\n",
    "                                              reverse=True)[self.top_k_stop_words:])\n",
    "        \n",
    "        self.exp_req_true = dict(sorted(self.exp_req_true.items(), key=lambda kv: kv[1],\n",
    "                                        reverse=True)[self.top_k_stop_words:])\n",
    "        self.exp_req_false = dict(sorted(self.exp_req_false.items(), key=lambda kv: kv[1],\n",
    "                                         reverse=True)[self.top_k_stop_words:])\n",
    "        \n",
    "        self.education_req = dict(sorted(self.education_req.items(), key=lambda kv: kv[1],\n",
    "                                         reverse=True)[self.top_k_stop_words:])\n",
    "        self.education_not_req = dict(sorted(self.education_not_req.items(), key=lambda kv: kv[1],\n",
    "                                             reverse=True)[self.top_k_stop_words:])\n",
    "        \n",
    "        print(\"model is ready for predicions\")\n",
    "        self.ready=True\n",
    "   \n",
    " \n",
    "###Lookup fucntion that will be able to predict the class based on the scores in dictionary for the task of full_time_required\n",
    "    \n",
    "    def predict_job_type_lookup(self, text):\n",
    "      \n",
    "        if(self.ready is None):\n",
    "            print(\"please fit the model before you perform inference\")\n",
    "            return\n",
    "        text_list  = [i.lower() for i in text] ### make all capitals small\n",
    "\n",
    "        result_set = []\n",
    "        for text_entry in text_list:\n",
    "            d_score = 0 ### inilize  delted count\n",
    "            h_score = 0 ### inilize  helted count\n",
    "\n",
    "            for word in text_entry.split(): ## split text into words\n",
    "                try:\n",
    "                    d = self.job_type_fullTime[word] # Search word in Lexicons\n",
    "                    d_score+=1\n",
    "                except:\n",
    "                    pass\n",
    "                try:\n",
    "                    h = self.job_type_partTime[word]  # Search word in Lexicons\n",
    "                    h_score+=1\n",
    "                except:\n",
    "                    pass\n",
    "\n",
    "            result = None\n",
    "\n",
    "        ### Check which class have greater score based on key_value pairs of dictionary\n",
    "            if (d_score>h_score): \n",
    "                result = True\n",
    "            elif(d_score<h_score):\n",
    "                result = False\n",
    "            elif(d_score==h_score):\n",
    "                result = False\n",
    "            else:\n",
    "                print(\"error computing scores\")\n",
    "            result_set.append(result)\n",
    "            result = None\n",
    "        return result_set\n",
    "    \n",
    "####Lookup fucntion that will be able to predict the class based on the scores in dictionary for driving licence\n",
    "    def predict_driving_license_lookup(self, text):\n",
    "        \"\"\"\n",
    "        input: list of input text to be predicted\n",
    "        \"\"\"\n",
    "        if(self.ready is None):\n",
    "            print(\"please fit the model before you perform inference\")\n",
    "            return\n",
    "        text_list  = [i.lower() for i in text] ### make all capitals small\n",
    "\n",
    "        result_set = []\n",
    "        for text_entry in text_list:\n",
    "            t_score = 0 ### inilize  delted count\n",
    "            f_score = 0 ### inilize  helted count\n",
    "\n",
    "            for word in text_entry.split(): ## split text into words\n",
    "                try:\n",
    "                    t = self.drv_lice_req_true[word]  # Search word in Lexicons\n",
    "                    t_score+=1\n",
    "                except:\n",
    "                    pass\n",
    "                try:\n",
    "                    f = self.drv_lice_req_false[word]  # Search word in Lexicons\n",
    "                    f_score+=1\n",
    "                except:\n",
    "                    pass\n",
    "\n",
    "            result = None\n",
    "            \n",
    "        ### Check which class have greater score based on key_value pairs of dictionary\n",
    "            if (t_score>f_score):\n",
    "                result = True\n",
    "            elif(t_score<f_score):\n",
    "                result = False\n",
    "            elif(t_score==f_score):\n",
    "                result = False\n",
    "            else:\n",
    "                print(\"error computing scores\")\n",
    "            result_set.append(result)\n",
    "            result = None\n",
    "        return result_set\n",
    "   \n",
    "    ####Lookup fucntion that will be able to predict the class based on the scores in dictionary for Experience\n",
    "    def predict_experience_lookup(self, text):\n",
    "        \"\"\"\n",
    "        input: list of input text to be predicted\n",
    "        \"\"\"\n",
    "        if(self.ready is None):\n",
    "            print(\"please fit the model before you perform inference\")\n",
    "            return\n",
    "        text_list  = [i.lower() for i in text] ### make all capitals small\n",
    "\n",
    "        result_set = []\n",
    "        for text_entry in text_list:\n",
    "            t_score = 0 ### inilize  delted count\n",
    "            f_score = 0 ### inilize  helted count\n",
    "\n",
    "            for word in text_entry.split(): ## split text into words\n",
    "                try:\n",
    "                    t = self.exp_req_true[word]  # Search word in Lexicons\n",
    "                    t_score+=1\n",
    "                except:\n",
    "                    pass\n",
    "                try:\n",
    "                    f = self.exp_req_false[word]  # Search word in Lexicons\n",
    "                    f_score+=1\n",
    "                except:\n",
    "                    pass\n",
    "\n",
    "            result = None\n",
    "\n",
    "            if (t_score>f_score):  \n",
    "                result = True\n",
    "            elif(t_score<f_score):\n",
    "                result = False\n",
    "            elif(t_score==f_score):\n",
    "                result = False\n",
    "            else:\n",
    "                print(\"error computing scores\")\n",
    "            result_set.append(result)\n",
    "            result = None\n",
    "        return result_set\n",
    "        \n",
    "      ####Lookup fucntion that will be able to predict the class based on the scores in dictionary for Education\n",
    "    def predict_education_lookup(self, text):\n",
    "        \"\"\"\n",
    "        input: list of input text to be predicted\n",
    "        \"\"\"\n",
    "        if(self.ready is None):\n",
    "            print(\"please fit the model before you perform inference\")\n",
    "            return\n",
    "        text_list  = [i.lower() for i in text] ### make all capitals small\n",
    "\n",
    "        result_set = []\n",
    "        for text_entry in text_list:\n",
    "            er_score = 0 ### inilize  delted count\n",
    "            en_score = 0 ### inilize  helted count\n",
    "\n",
    "            for word in text_entry.split(): ## split text into words\n",
    "                try:\n",
    "                    t = self.education_req[word] # Search word in Lexicons\n",
    "                    er_score+=1\n",
    "                except:\n",
    "                    pass\n",
    "                try:\n",
    "                    f = self.education_not_req[word] # Search word in Lexicons\n",
    "                    en_score+=1\n",
    "                except:\n",
    "                    pass\n",
    "\n",
    "            result = None\n",
    "            \n",
    " ### Check which class have greater score based on key_value pairs of dictionary\n",
    "            if (er_score >  en_score):\n",
    "                result = True\n",
    "            elif(er_score < en_score):\n",
    "                result =False\n",
    "            elif(er_score==en_score):\n",
    "                result = True\n",
    "            else:\n",
    "                print(\"error computing scores\")\n",
    "            result_set.append(result)\n",
    "            result = None\n",
    "        return result_set\n",
    "   \n",
    "    # Evaluate function to classify all classes and getting accuracy\n",
    "    def evaluate_all(self, test):\n",
    "        acc_job = self.evaluate_job(test)\n",
    "        acc_drv = self.evaluate_drv_licence(test)\n",
    "        acc_exp = self.evaluate_exp(test)\n",
    "        acc_edu = self.evaluate_edu(test)\n",
    "        return {\"job_type\": acc_job, \"driving_lic_req\": acc_drv, \"exp_req\": acc_exp, \"edu_req\":acc_edu}\n",
    "\n",
    "    # Evaluate function to classify Job Type task and getting accuracy\n",
    "    def evaluate_job(self, test):\n",
    "        text_list         = test[\"text\"]\n",
    "        pred_job_type = self.predict_job_type_lookup(text_list)\n",
    "        pred_job_type = [str(i).lower() for i in pred_job_type]\n",
    "        lbl_jb_type = [str(i).lower() for i in test[\"full_time_required\"]]\n",
    "        acc_job = accuracy_score(lbl_jb_type, pred_job_type)\n",
    "        return acc_job\n",
    "\n",
    "    # Evaluate function to classify Driving licence task and getting accuracy\n",
    "    def evaluate_drv_licence(self, test):\n",
    "        text_list         = test[\"text\"]\n",
    "        lbl_pred_drv = self.predict_driving_license_lookup(text_list)\n",
    "        lbl_pred_drv = [str(i).lower() for i in lbl_pred_drv]\n",
    "        lbl_drv_lice = [str(i).lower() for i in test[\"driving_license_required\"]]\n",
    "        acc_drv = accuracy_score(lbl_drv_lice, lbl_pred_drv)\n",
    "        return acc_drv\n",
    "\n",
    "    # Evaluate function to classify Experience task and getting accuracy\n",
    "    def evaluate_exp(self, test):\n",
    "        text_list         = test[\"text\"]\n",
    "        exp_req_pred = self.predict_experience_lookup(text_list)\n",
    "        exp_req_pred = [str(i).lower() for i in exp_req_pred]\n",
    "        lbl_exp_req = [str(i).lower() for i in test[\"experience_required\"]]\n",
    "        acc_exp = accuracy_score(lbl_exp_req, exp_req_pred)\n",
    "        return acc_exp\n",
    "       \n",
    "    # Evaluate function to classify Education task and getting accuracy\n",
    "    def evaluate_edu(self, test):\n",
    "        text_list         = test[\"text\"]\n",
    "        lbl_education_pred = self.predict_education_lookup(text_list)\n",
    "        lbl_education_pred = [str(i).lower() for i in lbl_education_pred]\n",
    "        lbl_education = [str(i).lower() for i in test[\"education_required\"]]\n",
    "        acc_edu = accuracy_score(lbl_education, lbl_education_pred)\n",
    "        return acc_edu\n",
    "    "
   ]
  },
  {
   "cell_type": "markdown",
   "id": "d9b89710",
   "metadata": {},
   "source": [
    "### Split the data into Training and Test data"
   ]
  },
  {
   "cell_type": "code",
   "execution_count": null,
   "id": "13925b34",
   "metadata": {},
   "outputs": [],
   "source": [
    "X         = data_['text']\n",
    "\n",
    "y_job     = data_['full_time_required']\n",
    "y_drv_lic = data_['driving_license_required']\n",
    "y_exp     = data_['experience_required']\n",
    "y_edu     = data_['education_required']\n",
    "\n",
    "X_idx = [i for i in range(len(data_))]  \n",
    "y_idx = [i for i in range(len(data_))]\n",
    "\n",
    "X_train, X_test, _, _ = train_test_split(X_idx, y_idx, test_size=0.20, random_state=42)\n",
    "\n",
    "train = data_.loc[X_train]\n",
    "\n",
    "test  = data_.loc[X_test]\n"
   ]
  },
  {
   "cell_type": "markdown",
   "id": "36647f00",
   "metadata": {},
   "source": [
    "#### Initilize Model Object"
   ]
  },
  {
   "cell_type": "code",
   "execution_count": null,
   "id": "bcedbb7c",
   "metadata": {},
   "outputs": [],
   "source": [
    "model = ClassificationLex() "
   ]
  },
  {
   "cell_type": "markdown",
   "id": "8f5d0c2f",
   "metadata": {},
   "source": [
    "#### Fit model on input training data"
   ]
  },
  {
   "cell_type": "code",
   "execution_count": null,
   "id": "33f9a4c1",
   "metadata": {},
   "outputs": [],
   "source": [
    "model.fit(train)"
   ]
  },
  {
   "cell_type": "markdown",
   "id": "50387793",
   "metadata": {},
   "source": [
    "### Evaluating Model for each task"
   ]
  },
  {
   "cell_type": "markdown",
   "id": "c63760f8",
   "metadata": {},
   "source": [
    "### 1. Job type"
   ]
  },
  {
   "cell_type": "code",
   "execution_count": null,
   "id": "4420049e",
   "metadata": {},
   "outputs": [],
   "source": [
    "text_list = test[\"text\"]"
   ]
  },
  {
   "cell_type": "code",
   "execution_count": null,
   "id": "6293ded5",
   "metadata": {},
   "outputs": [],
   "source": [
    "pred_job_type = model.predict_job_type_lookup(text_list)"
   ]
  },
  {
   "cell_type": "code",
   "execution_count": null,
   "id": "a4ac34a7",
   "metadata": {},
   "outputs": [],
   "source": [
    "pred_job_type = [str(i).lower() for i in pred_job_type]"
   ]
  },
  {
   "cell_type": "code",
   "execution_count": null,
   "id": "b85e0131",
   "metadata": {},
   "outputs": [],
   "source": [
    "lbl_jb_type = [str(i).lower() for i in test[\"full_time_required\"]] "
   ]
  },
  {
   "cell_type": "markdown",
   "id": "8585f99c",
   "metadata": {},
   "source": [
    "#### Compute Accuracy and Error rate"
   ]
  },
  {
   "cell_type": "code",
   "execution_count": null,
   "id": "2bf920bb",
   "metadata": {},
   "outputs": [],
   "source": [
    "correct = 0\n",
    "mistakes = 0\n",
    "total = 0\n",
    "for txt, gt, pd in zip(text_list, lbl_jb_type, pred_job_type):\n",
    "    if(gt==pd):\n",
    "        correct+=1\n",
    "    else:\n",
    "        mistakes+=1\n",
    "    total+=1\n",
    "print(\"correct/total:\", correct, \"/\", total)\n",
    "print(\"acc:\", correct / total)\n",
    "print(\"error/total\", mistakes, \"/\", total)\n",
    "print(\"error rate:\", mistakes/total)"
   ]
  },
  {
   "cell_type": "markdown",
   "id": "759ee402",
   "metadata": {},
   "source": [
    "#### Classification Report for Job_type"
   ]
  },
  {
   "cell_type": "code",
   "execution_count": null,
   "id": "0722a7f5",
   "metadata": {},
   "outputs": [],
   "source": [
    "print(classification_report(lbl_jb_type,  pred_job_type))"
   ]
  },
  {
   "cell_type": "markdown",
   "id": "ed531d0c",
   "metadata": {},
   "source": [
    "#### Compute Precision and Recall for Jobtype"
   ]
  },
  {
   "cell_type": "code",
   "execution_count": null,
   "id": "81b4d05b",
   "metadata": {},
   "outputs": [],
   "source": [
    "pre_job = precision_score(lbl_jb_type,pred_job_type,pos_label=\"true\")\n",
    "print(pre_job)\n",
    "re_job = recall_score(lbl_jb_type,pred_job_type,pos_label=\"true\")\n",
    "print(re_job)"
   ]
  },
  {
   "cell_type": "markdown",
   "id": "ecebe8f5",
   "metadata": {},
   "source": [
    "### 2. Driving licence"
   ]
  },
  {
   "cell_type": "code",
   "execution_count": null,
   "id": "611809fe",
   "metadata": {},
   "outputs": [],
   "source": [
    "lbl_pred_drv = model.predict_driving_license_lookup(text_list)\n",
    "lbl_pred_drv = [str(i).lower() for i in lbl_pred_drv]"
   ]
  },
  {
   "cell_type": "code",
   "execution_count": null,
   "id": "caa8dc7e",
   "metadata": {},
   "outputs": [],
   "source": [
    "lbl_drv_lice = [str(i).lower() for i in test[\"driving_license_required\"]]"
   ]
  },
  {
   "cell_type": "markdown",
   "id": "e2b89b5e",
   "metadata": {},
   "source": [
    "#### Classification Report fro Driving Licence"
   ]
  },
  {
   "cell_type": "code",
   "execution_count": null,
   "id": "98941fb4",
   "metadata": {},
   "outputs": [],
   "source": [
    "print(classification_report(lbl_drv_lice,  lbl_pred_drv))"
   ]
  },
  {
   "cell_type": "markdown",
   "id": "e375c018",
   "metadata": {},
   "source": [
    "#### Compute Precision and Recall for Driving Licence"
   ]
  },
  {
   "cell_type": "code",
   "execution_count": null,
   "id": "a6e25ca7",
   "metadata": {},
   "outputs": [],
   "source": [
    "pre_dri = precision_score(lbl_drv_lice,lbl_pred_drv,pos_label=\"true\")\n",
    "print(pre_dri)\n",
    "re_dri = recall_score(lbl_drv_lice,lbl_pred_drv,pos_label=\"true\")\n",
    "print(re_dri)"
   ]
  },
  {
   "cell_type": "markdown",
   "id": "4caad0cf",
   "metadata": {},
   "source": [
    "### 3. Experience required"
   ]
  },
  {
   "cell_type": "code",
   "execution_count": null,
   "id": "03596efa",
   "metadata": {},
   "outputs": [],
   "source": [
    "lbl_exp_req = [str(i).lower() for i in test[\"experience_required\"]]"
   ]
  },
  {
   "cell_type": "code",
   "execution_count": null,
   "id": "c4806538",
   "metadata": {},
   "outputs": [],
   "source": [
    "exp_req_pred = model.predict_experience_lookup(text_list)\n",
    "exp_req_pred = [str(i).lower() for i in exp_req_pred]"
   ]
  },
  {
   "cell_type": "markdown",
   "id": "d0a7603f",
   "metadata": {},
   "source": [
    "#### Classification Report for Experience"
   ]
  },
  {
   "cell_type": "code",
   "execution_count": null,
   "id": "5b26c547",
   "metadata": {},
   "outputs": [],
   "source": [
    "print(classification_report(lbl_exp_req,  exp_req_pred))"
   ]
  },
  {
   "cell_type": "markdown",
   "id": "e2bfa77b",
   "metadata": {},
   "source": [
    "#### Compute Precision and Recall for Experience"
   ]
  },
  {
   "cell_type": "code",
   "execution_count": null,
   "id": "9968c0d3",
   "metadata": {},
   "outputs": [],
   "source": [
    "pre_exp = precision_score(lbl_exp_req,exp_req_pred,pos_label=\"true\")\n",
    "print(pre_exp)\n",
    "re_exp = recall_score(lbl_exp_req,exp_req_pred,pos_label=\"true\")\n",
    "print(re_exp)"
   ]
  },
  {
   "cell_type": "markdown",
   "id": "ea5ef3ed",
   "metadata": {},
   "source": [
    "### 4. Education"
   ]
  },
  {
   "cell_type": "code",
   "execution_count": null,
   "id": "318b4b25",
   "metadata": {},
   "outputs": [],
   "source": [
    "lbl_education_pred = model.predict_education_lookup(text_list)\n",
    "lbl_education_pred = [str(i).lower() for i in lbl_education_pred]"
   ]
  },
  {
   "cell_type": "code",
   "execution_count": null,
   "id": "11b73e97",
   "metadata": {},
   "outputs": [],
   "source": [
    "lbl_education = [str(i).lower() for i in test[\"education_required\"]]"
   ]
  },
  {
   "cell_type": "markdown",
   "id": "f49e8e81",
   "metadata": {},
   "source": [
    "#### Classification Report for Education"
   ]
  },
  {
   "cell_type": "code",
   "execution_count": null,
   "id": "3e6b37fc",
   "metadata": {},
   "outputs": [],
   "source": [
    "print(classification_report(lbl_education,  lbl_education_pred))"
   ]
  },
  {
   "cell_type": "markdown",
   "id": "7c377908",
   "metadata": {},
   "source": [
    "#### Compute Precision and Recall for Education"
   ]
  },
  {
   "cell_type": "code",
   "execution_count": null,
   "id": "72e32e8c",
   "metadata": {},
   "outputs": [],
   "source": [
    "pre_edu = precision_score(lbl_education,lbl_education_pred,pos_label=\"true\")\n",
    "re_edu = recall_score(lbl_education,lbl_education_pred,pos_label=\"true\")\n",
    "print(pre_edu)\n",
    "print(re_edu)"
   ]
  },
  {
   "cell_type": "markdown",
   "id": "0c2bea66",
   "metadata": {},
   "source": [
    "#### Accuracy Results for all four tasks"
   ]
  },
  {
   "cell_type": "code",
   "execution_count": null,
   "id": "572560dd",
   "metadata": {},
   "outputs": [],
   "source": [
    "results = model.evaluate_all(test)\n",
    "\n",
    "print(f\"accuracy for job type:        {results['job_type']}\")\n",
    "print(f\"accuracy for driving licence: {results['driving_lic_req']}\")\n",
    "print(f\"accuracy for experince:       {results['exp_req']}\")\n",
    "print(f\"accuracy for education:       {results['edu_req']}\")"
   ]
  }
 ],
 "metadata": {
  "kernelspec": {
   "display_name": "Python 3",
   "language": "python",
   "name": "python3"
  },
  "language_info": {
   "codemirror_mode": {
    "name": "ipython",
    "version": 3
   },
   "file_extension": ".py",
   "mimetype": "text/x-python",
   "name": "python",
   "nbconvert_exporter": "python",
   "pygments_lexer": "ipython3",
   "version": "3.8.8"
  }
 },
 "nbformat": 4,
 "nbformat_minor": 5
}
