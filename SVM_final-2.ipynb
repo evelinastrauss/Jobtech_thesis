{
  "cells": [
    {
      "cell_type": "markdown",
      "source": [
        "# Import necessary libraries"
      ],
      "metadata": {
        "id": "VtiOnoeOFZeX"
      },
      "id": "VtiOnoeOFZeX"
    },
    {
      "cell_type": "code",
      "execution_count": null,
      "id": "f26a727e",
      "metadata": {
        "id": "f26a727e"
      },
      "outputs": [],
      "source": [
        "import json\n",
        "import pandas as pd\n",
        "\n",
        "from sklearn.preprocessing import LabelEncoder\n",
        "from sklearn.pipeline import make_pipeline\n",
        "from sklearn.preprocessing import StandardScaler\n",
        "\n",
        "from sklearn.model_selection import train_test_split\n",
        "from sklearn.metrics import classification_report\n",
        "from sklearn.svm import SVC\n",
        "\n",
        "from sklearn.feature_extraction.text import TfidfVectorizer\n",
        "from sklearn.metrics import accuracy_score\n",
        "from sklearn.model_selection import GridSearchCV\n",
        "\n",
        "import nltk\n",
        "from nltk.corpus import stopwords\n",
        "from nltk.tokenize import word_tokenize\n",
        "from nltk.stem.snowball import SnowballStemmer\n",
        "from sklearn.metrics import precision_score\n",
        "from sklearn.metrics import recall_score\n"
      ]
    },
    {
      "cell_type": "code",
      "execution_count": null,
      "id": "3ab5997d",
      "metadata": {
        "id": "3ab5997d"
      },
      "outputs": [],
      "source": [
        "nltk.download('stopwords')\n",
        "nltk.download('punkt')"
      ]
    },
    {
      "cell_type": "code",
      "execution_count": null,
      "id": "41302dd2",
      "metadata": {
        "id": "41302dd2"
      },
      "outputs": [],
      "source": [
        "# Choose a Swedish stemmer and Swedish stop words to handle Swedish text\n",
        "\n",
        "stemmer = SnowballStemmer(language = 'swedish')\n",
        "stop_words = set(stopwords.words(\"swedish\"))"
      ]
    },
    {
      "cell_type": "markdown",
      "source": [
        "# Read data"
      ],
      "metadata": {
        "id": "mhdLUOrCF12n"
      },
      "id": "mhdLUOrCF12n"
    },
    {
      "cell_type": "code",
      "execution_count": null,
      "id": "d5edf044",
      "metadata": {
        "id": "d5edf044"
      },
      "outputs": [],
      "source": [
        "# Function to read data from json-file and store in Pandas Dataframe\n",
        "\n",
        "def get_data_from_json(path):\n",
        "    with open(path, 'r') as f:\n",
        "        data = json.load(f)\n",
        "        data = pd.DataFrame(data)\n",
        "    return data"
      ]
    },
    {
      "cell_type": "code",
      "execution_count": null,
      "id": "21326a3d",
      "metadata": {
        "id": "21326a3d"
      },
      "outputs": [],
      "source": [
        "path = 'full_dataset.json'\n",
        "data = get_data_from_json(path)"
      ]
    },
    {
      "cell_type": "markdown",
      "source": [
        "# Preprocessing"
      ],
      "metadata": {
        "id": "Vns3t0JBGAq7"
      },
      "id": "Vns3t0JBGAq7"
    },
    {
      "cell_type": "markdown",
      "source": [
        "### Preprocessing functions:"
      ],
      "metadata": {
        "id": "O4G4w-09GIgz"
      },
      "id": "O4G4w-09GIgz"
    },
    {
      "cell_type": "code",
      "execution_count": null,
      "id": "a0534943",
      "metadata": {
        "id": "a0534943"
      },
      "outputs": [],
      "source": [
        "# Stemming of Swedish words\n",
        "\n",
        "def do_stemming(text, stemmer):\n",
        "    return [stemmer.stem(w) for w in text]"
      ]
    },
    {
      "cell_type": "code",
      "execution_count": null,
      "id": "05a5c714",
      "metadata": {
        "id": "05a5c714"
      },
      "outputs": [],
      "source": [
        "# Tokenize text, lowercase conversion of tokens and stop-word removal\n",
        "\n",
        "def remove_stop_words(text, stop_list):\n",
        "    text = text.lower()\n",
        "    word_tokens = word_tokenize(text)\n",
        "    clean = [w for w in word_tokens if not w.lower() in stop_list]\n",
        "    return clean"
      ]
    },
    {
      "cell_type": "code",
      "execution_count": null,
      "id": "b3e4cb46",
      "metadata": {
        "id": "b3e4cb46"
      },
      "outputs": [],
      "source": [
        "# Perform stemming and stop-word removal\n",
        "\n",
        "def preprocess(text, stop_list, stemmer):\n",
        "    clean = remove_stop_words(text, stop_list)\n",
        "    stemmed = do_stemming(clean, stemmer)\n",
        "    return ' '.join(stemmed)"
      ]
    },
    {
      "cell_type": "markdown",
      "id": "354f2785",
      "metadata": {
        "id": "354f2785"
      },
      "source": [
        "### Perform preprocessing functions:"
      ]
    },
    {
      "cell_type": "code",
      "execution_count": null,
      "id": "c1132285",
      "metadata": {
        "id": "c1132285"
      },
      "outputs": [],
      "source": [
        "data['text'] = [preprocess(text, stop_list = stop_words, stemmer = stemmer) for text in data['text']]"
      ]
    },
    {
      "cell_type": "markdown",
      "source": [
        "### Perform feature extraction using Tf-idf"
      ],
      "metadata": {
        "id": "pp-g7W8gGZ1-"
      },
      "id": "pp-g7W8gGZ1-"
    },
    {
      "cell_type": "code",
      "execution_count": null,
      "id": "e3c539bd",
      "metadata": {
        "id": "e3c539bd"
      },
      "outputs": [],
      "source": [
        "vectorizer = TfidfVectorizer()\n",
        "X = vectorizer.fit_transform(data['text'].values)"
      ]
    },
    {
      "cell_type": "markdown",
      "id": "068b4404",
      "metadata": {
        "id": "068b4404"
      },
      "source": [
        "# Sub-problem 1: Full-time vs Part-time"
      ]
    },
    {
      "cell_type": "markdown",
      "source": [
        "### Transform target values (True/False) into numerical values:"
      ],
      "metadata": {
        "id": "hIP-T87jHAey"
      },
      "id": "hIP-T87jHAey"
    },
    {
      "cell_type": "code",
      "execution_count": null,
      "id": "e666f79c",
      "metadata": {
        "id": "e666f79c"
      },
      "outputs": [],
      "source": [
        "# Transforming True and False values into numerical using LabelEncoder\n",
        "\n",
        "y_job = [str(i) for i in data['full_time_required'] ]\n",
        "\n",
        "le_job = LabelEncoder()\n",
        "le_job.fit(y_job)\n",
        "y_job = le_job.transform(y_job)"
      ]
    },
    {
      "cell_type": "markdown",
      "source": [
        "### Split data into training and testing:"
      ],
      "metadata": {
        "id": "LjKXStxAHHKc"
      },
      "id": "LjKXStxAHHKc"
    },
    {
      "cell_type": "code",
      "execution_count": null,
      "id": "1a3a95be",
      "metadata": {
        "id": "1a3a95be"
      },
      "outputs": [],
      "source": [
        "X_train, X_test, y_train, y_test = train_test_split(X, y_job, test_size = 0.20, stratify = y_job, random_state = 42)"
      ]
    },
    {
      "cell_type": "markdown",
      "source": [
        "### Training:"
      ],
      "metadata": {
        "id": "oNJkaw4MHYTT"
      },
      "id": "oNJkaw4MHYTT"
    },
    {
      "cell_type": "code",
      "execution_count": null,
      "id": "aa87cbb3",
      "metadata": {
        "id": "aa87cbb3"
      },
      "outputs": [],
      "source": [
        "# Select hyperparameter values for GridSearchCV\n",
        "parameters = {'C': [0.1, 1, 10],\n",
        "              'gamma': [0.1, 0.01, 0.001],\n",
        "              'kernel': ['rbf', 'poly', 'sigmoid']}\n",
        "\n",
        "# Initialize SVM classifier and perform hyperparameter tuning using GridSearchCV\n",
        "clf = SVC()\n",
        "clf_job = GridSearchCV(clf, parameters)\n",
        "\n",
        "# Fit classifier after hyperparameter tuning and train \n",
        "clf_job.fit(X_train, y_train)\n",
        "\n",
        "# Display best selection of hyperparameters after tuning\n",
        "clf_job.best_params_"
      ]
    },
    {
      "cell_type": "markdown",
      "source": [
        "### Testing:"
      ],
      "metadata": {
        "id": "gvAvBa3PH6gg"
      },
      "id": "gvAvBa3PH6gg"
    },
    {
      "cell_type": "code",
      "execution_count": null,
      "id": "01fbe33e",
      "metadata": {
        "id": "01fbe33e"
      },
      "outputs": [],
      "source": [
        "# Test and predict based on the test set\n",
        "\n",
        "y_hat = clf_job.predict(X_test)"
      ]
    },
    {
      "cell_type": "code",
      "execution_count": null,
      "id": "d80db440",
      "metadata": {
        "id": "d80db440"
      },
      "outputs": [],
      "source": [
        "# Calculate accuracy, precision and recall on test set\n",
        "\n",
        "accuracy = accuracy_score(y_test, y_hat)\n",
        "precision = precision_score(y_test, y_hat, pos_label = \"True\")\n",
        "recall = recall_score(y_test, y_hat, pos_label = \"True\")"
      ]
    },
    {
      "cell_type": "code",
      "execution_count": null,
      "id": "d82e36a7",
      "metadata": {
        "id": "d82e36a7"
      },
      "outputs": [],
      "source": [
        "# Print classification report\n",
        "\n",
        "print(classification_report(y_test, y_hat))"
      ]
    },
    {
      "cell_type": "markdown",
      "id": "6f2e2638",
      "metadata": {
        "id": "6f2e2638"
      },
      "source": [
        "# Sub-problem 2: Driving license vs No driving license"
      ]
    },
    {
      "cell_type": "markdown",
      "source": [
        "### Transform target values (True/False) into numerical values:"
      ],
      "metadata": {
        "id": "V7vdDyYeLr-y"
      },
      "id": "V7vdDyYeLr-y"
    },
    {
      "cell_type": "code",
      "execution_count": null,
      "id": "26485952",
      "metadata": {
        "id": "26485952"
      },
      "outputs": [],
      "source": [
        "# Transforming True and False values into numerical using LabelEncoder\n",
        "\n",
        "y_drv_lice = [str(i) for i in data['driving_license_required'] ]\n",
        "\n",
        "le_drv_lice = LabelEncoder()\n",
        "le_drv_lice.fit(y_drv_lice)\n",
        "y_drv_lice = le_drv_lice.transform(y_drv_lice)"
      ]
    },
    {
      "cell_type": "markdown",
      "source": [
        "### Split data into training and testing:"
      ],
      "metadata": {
        "id": "tH3YWyAxLxVQ"
      },
      "id": "tH3YWyAxLxVQ"
    },
    {
      "cell_type": "code",
      "execution_count": null,
      "id": "52740252",
      "metadata": {
        "id": "52740252"
      },
      "outputs": [],
      "source": [
        "X_train, X_test, y_train, y_test = train_test_split(X, y_drv_lice, test_size=0.20, stratify=y_drv_lice, random_state=42)"
      ]
    },
    {
      "cell_type": "markdown",
      "source": [
        "### Training:"
      ],
      "metadata": {
        "id": "bFC9OT3WMG7n"
      },
      "id": "bFC9OT3WMG7n"
    },
    {
      "cell_type": "code",
      "execution_count": null,
      "id": "62a595b0",
      "metadata": {
        "id": "62a595b0"
      },
      "outputs": [],
      "source": [
        "# Select hyperparameter values for GridSearchCV\n",
        "parameters = {'C': [0.1, 1, 10],\n",
        "              'gamma': [0.1, 0.01, 0.001],\n",
        "              'kernel': ['rbf', 'poly', 'sigmoid']}\n",
        "\n",
        "# Initialize SVM classifier and perform hyperparameter tuning using GridSearchCV\n",
        "clf = SVC()\n",
        "clf_drv_lice = GridSearchCV(clf, parameters)\n",
        "\n",
        "# Fit classifier after hyperparameter tuning and train \n",
        "clf_drv_lice.fit(X_train, y_train)\n",
        "\n",
        "# Display best selection of hyperparameters after tuning\n",
        "clf_drv_lice.best_params_"
      ]
    },
    {
      "cell_type": "markdown",
      "source": [
        "### Testing:"
      ],
      "metadata": {
        "id": "WntauxeuMEUF"
      },
      "id": "WntauxeuMEUF"
    },
    {
      "cell_type": "code",
      "execution_count": null,
      "id": "7b2c111e",
      "metadata": {
        "id": "7b2c111e"
      },
      "outputs": [],
      "source": [
        "# Test and predict based on the test set\n",
        "\n",
        "y_hat = clf_drv_lice.predict(X_test)"
      ]
    },
    {
      "cell_type": "code",
      "execution_count": null,
      "id": "9a43adcf",
      "metadata": {
        "id": "9a43adcf"
      },
      "outputs": [],
      "source": [
        "# Calculate accuracy, precision and recall on test set\n",
        "\n",
        "accuracy = accuracy_score(y_test, y_hat)\n",
        "precision = precision_score(y_test, y_hat, pos_label = \"True\")\n",
        "recall = recall_score(y_test, y_hat, pos_label = \"True\")"
      ]
    },
    {
      "cell_type": "code",
      "execution_count": null,
      "id": "07b27be8",
      "metadata": {
        "id": "07b27be8"
      },
      "outputs": [],
      "source": [
        "# Print classification report\n",
        "\n",
        "print(classification_report(y_test,  y_hat))"
      ]
    },
    {
      "cell_type": "markdown",
      "id": "0cc521de",
      "metadata": {
        "id": "0cc521de"
      },
      "source": [
        "# Sub-problem 3: Experience vs No experience"
      ]
    },
    {
      "cell_type": "markdown",
      "source": [
        "### Transform target values (True/False) into numerical values:"
      ],
      "metadata": {
        "id": "RiJbs5rMMc4k"
      },
      "id": "RiJbs5rMMc4k"
    },
    {
      "cell_type": "code",
      "execution_count": null,
      "id": "f1a76129",
      "metadata": {
        "id": "f1a76129"
      },
      "outputs": [],
      "source": [
        "# Transforming True and False values into numerical using LabelEncoder\n",
        "\n",
        "y_exp = [str(i) for i in data['experience_required'] ]\n",
        "\n",
        "le_exp = LabelEncoder()\n",
        "le_exp.fit(y_exp)\n",
        "y_exp = le_exp.transform(y_exp)"
      ]
    },
    {
      "cell_type": "markdown",
      "source": [
        "### Split data into training and testing:"
      ],
      "metadata": {
        "id": "VxZ0klaMMhrB"
      },
      "id": "VxZ0klaMMhrB"
    },
    {
      "cell_type": "code",
      "execution_count": null,
      "id": "e1476919",
      "metadata": {
        "id": "e1476919"
      },
      "outputs": [],
      "source": [
        "X_train, X_test, y_train, y_test = train_test_split(X, y_exp, test_size=0.20, random_state=42)"
      ]
    },
    {
      "cell_type": "markdown",
      "source": [
        "### Training:"
      ],
      "metadata": {
        "id": "prGM8X8wMktn"
      },
      "id": "prGM8X8wMktn"
    },
    {
      "cell_type": "code",
      "execution_count": null,
      "id": "d5dc562b",
      "metadata": {
        "id": "d5dc562b"
      },
      "outputs": [],
      "source": [
        "# Select hyperparameter values for GridSearchCV\n",
        "\n",
        "parameters = {'C': [0.1, 1, 10],\n",
        "              'gamma': [0.1, 0.01, 0.001],\n",
        "              'kernel': ['rbf', 'poly', 'sigmoid']}\n",
        "\n",
        "# Initialize SVM classifier and perform hyperparameter tuning using GridSearchCV\n",
        "clf = SVC()\n",
        "clf_exp = GridSearchCV(clf, parameters)\n",
        "\n",
        "# Fit classifier after hyperparameter tuning and train \n",
        "clf_exp.fit(X_train, y_train)\n",
        "\n",
        "# Display best selection of hyperparameters after tuning\n",
        "clf_exp.best_params_"
      ]
    },
    {
      "cell_type": "markdown",
      "source": [
        "### Testing:"
      ],
      "metadata": {
        "id": "eOVeAsH9Mw6-"
      },
      "id": "eOVeAsH9Mw6-"
    },
    {
      "cell_type": "code",
      "execution_count": null,
      "id": "d44b7011",
      "metadata": {
        "id": "d44b7011"
      },
      "outputs": [],
      "source": [
        "# Test and predict based on the test set\n",
        "\n",
        "y_hat = clf_exp.predict(X_test)"
      ]
    },
    {
      "cell_type": "code",
      "execution_count": null,
      "id": "c1b7bc93",
      "metadata": {
        "id": "c1b7bc93"
      },
      "outputs": [],
      "source": [
        "# Calculate accuracy, precision and recall on test set\n",
        "\n",
        "accuracy = accuracy_score(y_test, y_hat)\n",
        "precision = precision_score(y_test, y_hat, pos_label = \"True\")\n",
        "recall = recall_score(y_test, y_hat, pos_label = \"True\")"
      ]
    },
    {
      "cell_type": "code",
      "execution_count": null,
      "id": "bea4c2d7",
      "metadata": {
        "id": "bea4c2d7"
      },
      "outputs": [],
      "source": [
        "# Print classification report\n",
        "\n",
        "print(classification_report(y_test, y_hat))"
      ]
    },
    {
      "cell_type": "markdown",
      "id": "da85e653",
      "metadata": {
        "id": "da85e653"
      },
      "source": [
        "# Sub-problem 4: Education vs No education"
      ]
    },
    {
      "cell_type": "markdown",
      "source": [
        "### Transform target values (True/False) into numerical values:"
      ],
      "metadata": {
        "id": "5XLcQqKENEt8"
      },
      "id": "5XLcQqKENEt8"
    },
    {
      "cell_type": "code",
      "execution_count": null,
      "id": "6b4dd491",
      "metadata": {
        "id": "6b4dd491"
      },
      "outputs": [],
      "source": [
        "# Transforming True and False values into numerical using LabelEncoder\n",
        "\n",
        "y_edu = [str(i) for i in data['education_required'] ]\n",
        "\n",
        "le_edu = LabelEncoder()\n",
        "le_edu.fit(y_edu)\n",
        "y_edu = le_edu.transform(y_edu)"
      ]
    },
    {
      "cell_type": "markdown",
      "source": [
        "### Split data into training and testing:"
      ],
      "metadata": {
        "id": "alqoUVtQNKeE"
      },
      "id": "alqoUVtQNKeE"
    },
    {
      "cell_type": "code",
      "execution_count": null,
      "id": "525ed6f2",
      "metadata": {
        "id": "525ed6f2"
      },
      "outputs": [],
      "source": [
        "X_train, X_test, y_train, y_test = train_test_split(X, y_edu, test_size=0.20, random_state=42)"
      ]
    },
    {
      "cell_type": "markdown",
      "source": [
        "### Training:"
      ],
      "metadata": {
        "id": "r5WwrQd4NL5A"
      },
      "id": "r5WwrQd4NL5A"
    },
    {
      "cell_type": "code",
      "execution_count": null,
      "id": "f25d77c7",
      "metadata": {
        "id": "f25d77c7"
      },
      "outputs": [],
      "source": [
        "# Select hyperparameter values for GridSearchCV\n",
        "\n",
        "parameters = {'C': [0.1, 1, 10],\n",
        "              'gamma': [0.1, 0.01, 0.001],\n",
        "              'kernel': ['rbf', 'poly', 'sigmoid']}\n",
        "\n",
        "# Initialize SVM classifier and perform hyperparameter tuning using GridSearchCV\n",
        "clf = SVC()\n",
        "clf_edu = GridSearchCV(clf, parameters)\n",
        "\n",
        "# Fit classifier after hyperparameter tuning and train \n",
        "clf_edu.fit(X_train,y_train)\n",
        "\n",
        "# Display best selection of hyperparameters after tuning\n",
        "clf_edu.best_params_"
      ]
    },
    {
      "cell_type": "markdown",
      "source": [
        "### Testing:"
      ],
      "metadata": {
        "id": "UPv3jFq5Onoy"
      },
      "id": "UPv3jFq5Onoy"
    },
    {
      "cell_type": "code",
      "execution_count": null,
      "id": "7b58a8a4",
      "metadata": {
        "id": "7b58a8a4"
      },
      "outputs": [],
      "source": [
        "# Test and predict based on the test set\n",
        "\n",
        "y_hat = clf_edu.predict(X_test)"
      ]
    },
    {
      "cell_type": "code",
      "execution_count": null,
      "id": "f3057226",
      "metadata": {
        "id": "f3057226"
      },
      "outputs": [],
      "source": [
        "# Calculate accuracy, precision and recall on test set\n",
        "\n",
        "accuracy = accuracy_score(y_test, y_hat)\n",
        "precision = precision_score(y_test, y_hat, pos_label = \"True\")\n",
        "recall = recall_score(y_test, y_hat, pos_label = \"True\")"
      ]
    },
    {
      "cell_type": "code",
      "execution_count": null,
      "id": "3fd90129",
      "metadata": {
        "id": "3fd90129"
      },
      "outputs": [],
      "source": [
        "# Print classification report\n",
        "\n",
        "print(classification_report(y_test, y_hat))"
      ]
    }
  ],
  "metadata": {
    "kernelspec": {
      "display_name": "Python 3",
      "language": "python",
      "name": "python3"
    },
    "language_info": {
      "codemirror_mode": {
        "name": "ipython",
        "version": 3
      },
      "file_extension": ".py",
      "mimetype": "text/x-python",
      "name": "python",
      "nbconvert_exporter": "python",
      "pygments_lexer": "ipython3",
      "version": "3.8.8"
    },
    "colab": {
      "name": "SVM_final.ipynb",
      "provenance": []
    }
  },
  "nbformat": 4,
  "nbformat_minor": 5
}